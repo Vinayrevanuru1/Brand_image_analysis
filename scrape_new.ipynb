{
 "cells": [
  {
   "cell_type": "code",
   "execution_count": 1,
   "metadata": {},
   "outputs": [],
   "source": [
    "import snscrape.modules.twitter as sntwitter\n",
    "import snscrape\n",
    "import pandas as pd\n",
    "import numpy as np\n",
    "import datetime as dt\n"
   ]
  },
  {
   "cell_type": "code",
   "execution_count": 2,
   "metadata": {},
   "outputs": [],
   "source": [
    "# Define the Twitter username\n",
    "username = \"Starbucks\"\n",
    "\n",
    "# Define the date range\n",
    "start_date = dt.date(2008, 1, 1)\n",
    "end_date = dt.date(2022, 12, 1)\n",
    "\n",
    "# Define the exclude filter for replies\n",
    "exclude_filter = \"exclude:replies\"\n",
    "\n",
    "# Create a list to store the tweets\n",
    "tweets = []\n",
    "\n",
    "# Use snscrape to search for tweets from the user within the date range\n",
    "for tweet in sntwitter.TwitterSearchScraper(\"from:\" + username + \" since:\" + str(start_date) + \" until:\" + str(end_date) + \" \" + exclude_filter).get_items():\n",
    "    #ignore tweets with no media\n",
    "    if tweet.media:\n",
    "        tweets.append(tweet)\n",
    "\n",
    "\n",
    "    "
   ]
  },
  {
   "cell_type": "code",
   "execution_count": 68,
   "metadata": {},
   "outputs": [
    {
     "name": "stderr",
     "output_type": "stream",
     "text": [
      "C:\\Users\\vinay\\AppData\\Local\\Temp\\ipykernel_18304\\3137642976.py:6: FutureWarning: content is deprecated, use rawContent instead\n",
      "  content = [tweet.content for tweet in tweets]\n"
     ]
    }
   ],
   "source": [
    "id = ['s'+ str(tweet.id) for tweet in tweets]\n",
    "\n",
    "\n",
    "\n",
    "# Create a list of tweet content\n",
    "content = [tweet.content for tweet in tweets]\n",
    "\n",
    "# Create a list of tweet media urls\n",
    "media_urls = [tweet.media for tweet in tweets]\n",
    "\n",
    "\n",
    "# Create a list of tweet hashtags\n",
    "hashtags = [tweet.hashtags for tweet in tweets]\n",
    "\n",
    "# Create a list of likes\n",
    "\n",
    "likes = [tweet.likeCount for tweet in tweets]\n",
    "\n",
    "# Create a list of retweets\n",
    "retweets = [tweet.retweetCount for tweet in tweets]\n",
    "\n",
    "# Create a list of replies\n",
    "replies = [tweet.replyCount for tweet in tweets]\n",
    "\n",
    "# Create a list of tweet URLs\n",
    "urls = [tweet.url for tweet in tweets]\n",
    "\n",
    "#create a list of tweet dates\n",
    "dates = [tweet.date for tweet in tweets]"
   ]
  },
  {
   "cell_type": "code",
   "execution_count": 3,
   "metadata": {},
   "outputs": [
    {
     "data": {
      "text/plain": [
       "Tweet(url='https://twitter.com/Starbucks/status/1593741479335587840', date=datetime.datetime(2022, 11, 18, 23, 2, 33, tzinfo=datetime.timezone.utc), rawContent='When you open a Starbucks Reserve® store in an NYC landmark, you celebrate with an NYC icon. @aliciakeys joined us for the lighting ceremony—the first of many unforgettable experiences here at the @EmpireStateBldg. Hope to see you soon. ✨ #StarbucksReserve #AliciaSantaBaby https://t.co/QnaIZCLHpq', renderedContent='When you open a Starbucks Reserve® store in an NYC landmark, you celebrate with an NYC icon. @aliciakeys joined us for the lighting ceremony—the first of many unforgettable experiences here at the @EmpireStateBldg. Hope to see you soon. ✨ #StarbucksReserve #AliciaSantaBaby https://t.co/QnaIZCLHpq', id=1593741479335587840, user=User(username='Starbucks', id=30973, displayname='Starbucks Coffee', rawDescription='Make today a good day. 💚', renderedDescription='Make today a good day. 💚', descriptionLinks=None, verified=True, created=datetime.datetime(2006, 11, 29, 19, 19, 2, tzinfo=datetime.timezone.utc), followersCount=11123802, friendsCount=87785, statusesCount=266153, favouritesCount=22728, listedCount=25137, mediaCount=4033, location='Seattle, WA', protected=False, link=TextLink(text='starbucks.app.link/WinterFeatured', url='https://starbucks.app.link/WinterFeatured', tcourl='https://t.co/t8oOUu1aeX', indices=(0, 23)), profileImageUrl='https://pbs.twimg.com/profile_images/1268570190855331841/CiNnNX94_normal.jpg', profileBannerUrl='https://pbs.twimg.com/profile_banners/30973/1672754287', label=None), replyCount=441, retweetCount=179, likeCount=1139, quoteCount=29, conversationId=1593741479335587840, lang='en', source='<a href=\"https://mobile.twitter.com\" rel=\"nofollow\">Twitter Web App</a>', sourceUrl='https://mobile.twitter.com', sourceLabel='Twitter Web App', links=None, media=[Video(thumbnailUrl='https://pbs.twimg.com/ext_tw_video_thumb/1593741358505902081/pu/img/OGDg9PqzdJhT11t5.jpg', variants=[VideoVariant(url='https://video.twimg.com/ext_tw_video/1593741358505902081/pu/vid/480x770/hWppoWvsI9Gfd_n1.mp4?tag=12', contentType='video/mp4', bitrate=950000), VideoVariant(url='https://video.twimg.com/ext_tw_video/1593741358505902081/pu/vid/720x1156/icwYHc7ymjvKteBH.mp4?tag=12', contentType='video/mp4', bitrate=2176000), VideoVariant(url='https://video.twimg.com/ext_tw_video/1593741358505902081/pu/pl/FDuU5chqRZVj63wg.m3u8?tag=12&container=fmp4', contentType='application/x-mpegURL', bitrate=None), VideoVariant(url='https://video.twimg.com/ext_tw_video/1593741358505902081/pu/vid/320x512/5mG7N2N4ypKfEVPM.mp4?tag=12', contentType='video/mp4', bitrate=632000)], duration=1.2, views=61576, altText=None)], retweetedTweet=None, quotedTweet=None, inReplyToTweetId=None, inReplyToUser=None, mentionedUsers=[User(username='aliciakeys', id=35094637, displayname='Alicia Keys', rawDescription=None, renderedDescription=None, descriptionLinks=None, verified=None, created=None, followersCount=None, friendsCount=None, statusesCount=None, favouritesCount=None, listedCount=None, mediaCount=None, location=None, protected=None, link=None, profileImageUrl=None, profileBannerUrl=None, label=None), User(username='EmpireStateBldg', id=123289066, displayname='Empire State Building', rawDescription=None, renderedDescription=None, descriptionLinks=None, verified=None, created=None, followersCount=None, friendsCount=None, statusesCount=None, favouritesCount=None, listedCount=None, mediaCount=None, location=None, protected=None, link=None, profileImageUrl=None, profileBannerUrl=None, label=None)], coordinates=None, place=None, hashtags=['StarbucksReserve', 'AliciaSantaBaby'], cashtags=None, card=None, viewCount=None, vibe=None)"
      ]
     },
     "execution_count": 3,
     "metadata": {},
     "output_type": "execute_result"
    }
   ],
   "source": [
    "tweets[0]"
   ]
  },
  {
   "cell_type": "code",
   "execution_count": 69,
   "metadata": {},
   "outputs": [],
   "source": [
    "media_type = []\n",
    "media_url = []\n",
    "\n",
    "for tweet in tweets:\n",
    "\n",
    "    m_t = []\n",
    "    m_u = []\n",
    "    for medium in tweet.media:\n",
    "    \n",
    "        if isinstance(medium, snscrape.modules.twitter.Photo):\n",
    "            m_t.append(\"photo\")\n",
    "            m_u.append(medium.fullUrl)\n",
    "        elif isinstance(medium, snscrape.modules.twitter.Video):\n",
    "            m_t.append(\"video\")\n",
    "            m_u.append(medium.variants[0].url)\n",
    "        elif isinstance(medium, snscrape.modules.twitter.Gif):\n",
    "            m_t.append(\"gif\")\n",
    "            m_u.append(medium.variants[0].url)\n",
    "    media_type.append(m_t)\n",
    "    media_url.append(m_u)\n"
   ]
  },
  {
   "cell_type": "code",
   "execution_count": 16,
   "metadata": {},
   "outputs": [
    {
     "name": "stdout",
     "output_type": "stream",
     "text": [
      "177\n",
      "177\n",
      "177\n",
      "177\n",
      "177\n",
      "177\n"
     ]
    }
   ],
   "source": []
  },
  {
   "cell_type": "code",
   "execution_count": 70,
   "metadata": {},
   "outputs": [
    {
     "name": "stdout",
     "output_type": "stream",
     "text": [
      "<class 'pandas.core.frame.DataFrame'>\n",
      "Int64Index: 1625 entries, 0 to 1509\n",
      "Data columns (total 10 columns):\n",
      " #   Column       Non-Null Count  Dtype              \n",
      "---  ------       --------------  -----              \n",
      " 0   id           1625 non-null   object             \n",
      " 1   date         1625 non-null   datetime64[ns, UTC]\n",
      " 2   content      1625 non-null   object             \n",
      " 3   url          1625 non-null   object             \n",
      " 4   likes        1625 non-null   int64              \n",
      " 5   retweets     1625 non-null   int64              \n",
      " 6   reply_count  1625 non-null   int64              \n",
      " 7   hashtags     1118 non-null   object             \n",
      " 8   media_type   1625 non-null   object             \n",
      " 9   media_url    1625 non-null   object             \n",
      "dtypes: datetime64[ns, UTC](1), int64(3), object(6)\n",
      "memory usage: 139.6+ KB\n"
     ]
    }
   ],
   "source": [
    "#create a dataframe with the data\n",
    "\n",
    "df = pd.DataFrame({'id': id,'date':dates, 'content': content,'url':urls ,'likes':likes,'retweets':retweets,'reply_count': replies ,'hashtags': hashtags, 'media_type': media_type, 'media_url': media_url})\n",
    "\n",
    "\n",
    "#create a new row if there are multiple elements in the media_url column and media_type column in such a way that first element of media_url and media_type is in the same row as the rest of the elements\n",
    "\n",
    "df = df.explode(list('media_url,media_type'.split(',')))\n",
    "\n",
    "df.info()"
   ]
  },
  {
   "cell_type": "code",
   "execution_count": 56,
   "metadata": {},
   "outputs": [],
   "source": [
    "df.to_csv('starbucks.csv', index=False)"
   ]
  },
  {
   "cell_type": "code",
   "execution_count": 71,
   "metadata": {},
   "outputs": [],
   "source": [
    "import requests\n",
    "import os \n"
   ]
  },
  {
   "cell_type": "code",
   "execution_count": 72,
   "metadata": {},
   "outputs": [
    {
     "data": {
      "text/plain": [
       "()"
      ]
     },
     "execution_count": 72,
     "metadata": {},
     "output_type": "execute_result"
    }
   ],
   "source": [
    "#create a folder to store the images and videos if it doesn't exist\n",
    "folder_name = username + '_media'\n",
    "\n",
    "if not os.path.exists(folder_name):\n",
    "    os.makedirs(folder_name)\n",
    "    "
   ]
  },
  {
   "cell_type": "code",
   "execution_count": 60,
   "metadata": {},
   "outputs": [],
   "source": [
    "#download the images and videos and save them in the folder\n",
    "\n",
    "for index, row in df.iterrows():\n",
    "    if row['media_type'] == 'photo':\n",
    "        r = requests.get(row['media_url'])\n",
    "        with open(folder_name + '/' + row['id'] + '.jpg', 'wb') as f:\n",
    "            f.write(r.content)    \n",
    "    elif row['media_type'] == 'video':\n",
    "        \n",
    "        r = requests.get(row['media_url'])\n",
    "        with open(folder_name + '/' + row['id'] + '.mp4', 'wb') as f:\n",
    "            f.write(r.content)\n",
    "\n",
    "            \n",
    "    elif row['media_type'] == 'gif':\n",
    "        r = requests.get(row['media_url'])\n",
    "        with open(folder_name + '/' + row['id'] + '.gif', 'wb') as f:\n",
    "            f.write(r.content)"
   ]
  },
  {
   "cell_type": "code",
   "execution_count": 64,
   "metadata": {},
   "outputs": [],
   "source": [
    "#create a column that contains the path to the media file give jpg for photos and mp4 for videos and gif for gifs\n",
    "\n",
    "df['media_path'] = df.apply(lambda row: folder_name + '/' + row['id'] + '.jpg' if row['media_type'] == 'photo' else folder_name + '/' + row['id'] + '.mp4' if row['media_type'] == 'video' else folder_name + '/' + row['id'] + '.gif' if row['media_type'] == 'gif' else None, axis=1)"
   ]
  },
  {
   "cell_type": "code",
   "execution_count": 65,
   "metadata": {},
   "outputs": [],
   "source": [
    "\n",
    "df.to_csv('starbucks.csv', index=False)"
   ]
  },
  {
   "cell_type": "code",
   "execution_count": null,
   "metadata": {},
   "outputs": [],
   "source": []
  }
 ],
 "metadata": {
  "kernelspec": {
   "display_name": "Python 3",
   "language": "python",
   "name": "python3"
  },
  "language_info": {
   "codemirror_mode": {
    "name": "ipython",
    "version": 3
   },
   "file_extension": ".py",
   "mimetype": "text/x-python",
   "name": "python",
   "nbconvert_exporter": "python",
   "pygments_lexer": "ipython3",
   "version": "3.8.10"
  },
  "orig_nbformat": 4,
  "vscode": {
   "interpreter": {
    "hash": "e5fb2c28fb4ea9cc6ce4083cb5e83ea3e2521b21f80ec33cc90b80e890da9060"
   }
  }
 },
 "nbformat": 4,
 "nbformat_minor": 2
}
